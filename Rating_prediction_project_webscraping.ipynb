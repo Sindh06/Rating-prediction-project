{
 "cells": [
  {
   "cell_type": "code",
   "execution_count": 5,
   "id": "1488328c",
   "metadata": {},
   "outputs": [],
   "source": [
    "import selenium\n",
    "import pandas as pd\n",
    "from selenium import webdriver\n",
    "import time\n",
    "from selenium.common.exceptions import NoSuchElementException\n",
    "from selenium.common.exceptions import ElementNotInteractableException\n",
    "from selenium.common.exceptions import ElementClickInterceptedException"
   ]
  },
  {
   "cell_type": "code",
   "execution_count": 29,
   "id": "a16737e6",
   "metadata": {},
   "outputs": [],
   "source": [
    "driver=webdriver.Chrome(r\"C:\\Users\\Win 10\\Downloads\\chromedriver2\\chromedriver\")\n",
    "driver=webdriver.Chrome(\"chromedriver\")\n",
    "url='https://www.amazon.in/'             #passing url\n",
    "driver.get(url)              "
   ]
  },
  {
   "cell_type": "code",
   "execution_count": 30,
   "id": "e71b4868",
   "metadata": {},
   "outputs": [],
   "source": [
    "search_field=driver.find_element_by_id(\"twotabsearchtextbox\")\n",
    "search_field.send_keys(\"laptops\")\n",
    "search_button=driver.find_element_by_id(\"nav-search-submit-button\")\n",
    "search_button.click()"
   ]
  },
  {
   "cell_type": "code",
   "execution_count": 31,
   "id": "e929df29",
   "metadata": {},
   "outputs": [],
   "source": [
    "urls=[]\n",
    "for i in driver.find_elements_by_xpath(\"//h2[@class='a-size-mini a-spacing-none a-color-base s-line-clamp-2']//a\"):\n",
    "    urls.append(i.get_attribute('href'))"
   ]
  },
  {
   "cell_type": "code",
   "execution_count": 32,
   "id": "b83bc593",
   "metadata": {},
   "outputs": [],
   "source": [
    "ratings=[]\n",
    "#for k in range(7):#empty list\n",
    "for i in urls:\n",
    "    driver.get(i)\n",
    "    #time.sleep(1)\n",
    "    for j in driver.find_elements_by_xpath(\"//div[@class='a-fixed-left-grid-col aok-align-center a-col-right']\"):\n",
    "        ratings.append(j.text.replace(\"\\n\",\" \"))"
   ]
  },
  {
   "cell_type": "code",
   "execution_count": 34,
   "id": "4af2be85",
   "metadata": {},
   "outputs": [],
   "source": [
    "reviews=[]#empty list\n",
    "for i in urls:\n",
    "    driver.get(i)\n",
    "    #time.sleep(1)\n",
    "    for j in driver.find_elements_by_xpath(\"//a[@data-hook='review-title']\"):\n",
    "        reviews.append(j.text.replace(\"\\n\",\" \"))"
   ]
  },
  {
   "cell_type": "code",
   "execution_count": 13,
   "id": "66cc5220",
   "metadata": {},
   "outputs": [
    {
     "data": {
      "text/html": [
       "<div>\n",
       "<style scoped>\n",
       "    .dataframe tbody tr th:only-of-type {\n",
       "        vertical-align: middle;\n",
       "    }\n",
       "\n",
       "    .dataframe tbody tr th {\n",
       "        vertical-align: top;\n",
       "    }\n",
       "\n",
       "    .dataframe thead th {\n",
       "        text-align: right;\n",
       "    }\n",
       "</style>\n",
       "<table border=\"1\" class=\"dataframe\">\n",
       "  <thead>\n",
       "    <tr style=\"text-align: right;\">\n",
       "      <th></th>\n",
       "      <th>review_content</th>\n",
       "      <th>rating</th>\n",
       "    </tr>\n",
       "  </thead>\n",
       "  <tbody>\n",
       "    <tr>\n",
       "      <th>0</th>\n",
       "      <td>Awful service from Amazon</td>\n",
       "      <td>4.2 out of 5</td>\n",
       "    </tr>\n",
       "    <tr>\n",
       "      <th>1</th>\n",
       "      <td>Awesome laptop at this price</td>\n",
       "      <td>4.4 out of 5</td>\n",
       "    </tr>\n",
       "    <tr>\n",
       "      <th>2</th>\n",
       "      <td>Great Laptop! Extremely happy</td>\n",
       "      <td>2.8 out of 5</td>\n",
       "    </tr>\n",
       "    <tr>\n",
       "      <th>3</th>\n",
       "      <td>The laptop received was defective. Amazon supp...</td>\n",
       "      <td>4.1 out of 5</td>\n",
       "    </tr>\n",
       "    <tr>\n",
       "      <th>4</th>\n",
       "      <td>Overall laptop is good for students and workin...</td>\n",
       "      <td>4.2 out of 5</td>\n",
       "    </tr>\n",
       "  </tbody>\n",
       "</table>\n",
       "</div>"
      ],
      "text/plain": [
       "                                      review_content        rating\n",
       "0                          Awful service from Amazon  4.2 out of 5\n",
       "1                       Awesome laptop at this price  4.4 out of 5\n",
       "2                      Great Laptop! Extremely happy  2.8 out of 5\n",
       "3  The laptop received was defective. Amazon supp...  4.1 out of 5\n",
       "4  Overall laptop is good for students and workin...  4.2 out of 5"
      ]
     },
     "execution_count": 13,
     "metadata": {},
     "output_type": "execute_result"
    }
   ],
   "source": [
    "df=pd.DataFrame({})\n",
    "df['review_content']=reviews\n",
    "df['rating']=ratings\n",
    "df.head()"
   ]
  },
  {
   "cell_type": "code",
   "execution_count": 37,
   "id": "d070d0ee",
   "metadata": {},
   "outputs": [
    {
     "name": "stdout",
     "output_type": "stream",
     "text": [
      "Enter itemMobiles\n",
      "Searching for ['Mobiles']:\n",
      "Item searched\n"
     ]
    }
   ],
   "source": [
    "class AmazonPro(object):                      #initiating class\n",
    "    \n",
    "    def __init__(self,items):                 #defining class object\n",
    "        self.amazon_url=\"https://www.amazon.in/\"   #passing url\n",
    "        self.items = items                         #defining variables\n",
    "        self.profile=webdriver.Chrome(r\"C:\\Users\\Win 10\\Downloads\\chromedriver2\\chromedriver\")\n",
    "        self.driver=webdriver.Chrome(\"chromedriver\")            #getting webdriver \n",
    "        self.driver.get(self.amazon_url)  \n",
    "        \n",
    "        \n",
    "    def search_items(self):                          #defining new function with class object\n",
    "        urls=[]\n",
    "        prices=[]                                    #empty list to store data\n",
    "        names=[]\n",
    "        for item in self.items:                       #using for loop\n",
    "            print(f\"Searching for {items}:\")\n",
    "            \n",
    "            self.driver.get(self.amazon_url)\n",
    "            search_field=self.driver.find_element_by_id(\"twotabsearchtextbox\")    #fetching search tag using id name\n",
    "            search_field.send_keys(item)                                      #sending keys into search field\n",
    "            \n",
    "            time.sleep(2)\n",
    "            \n",
    "            search_button=self.driver.find_element_by_id(\"nav-search-submit-button\")  #fetching search tag using id name\n",
    "            search_button.click()                                      #submitting search_button\n",
    "            \n",
    "            time.sleep(1)\n",
    "\n",
    "items=[input(\"Enter item\")]                                 # making search_field as user input\n",
    "try:\n",
    "    amazon_pro=AmazonPro(items)\n",
    "    amazon_pro.search_items()                               #using try and except method\n",
    "    print(\"Item searched\")                                 \n",
    "except:\n",
    "    print(\"No Such item exist\")"
   ]
  },
  {
   "cell_type": "code",
   "execution_count": 38,
   "id": "63af9365",
   "metadata": {},
   "outputs": [],
   "source": [
    "urls1=[]\n",
    "for i in driver.find_elements_by_xpath(\"//h2[@class='a-size-mini a-spacing-none a-color-base s-line-clamp-2']//a\"):\n",
    "    urls.append(i.get_attribute('href'))"
   ]
  },
  {
   "cell_type": "code",
   "execution_count": 49,
   "id": "0724808f",
   "metadata": {},
   "outputs": [],
   "source": [
    "ratings1=[]\n",
    "#for k in range(7):#empty list\n",
    "for i in urls1:\n",
    "    driver.get(i)\n",
    "    #time.sleep(1)\n",
    "    for j in driver.find_elements_by_xpath(\"//span[@class='a-size-medium a-color-base']\"):\n",
    "        ratings1.append(j.text.replace(\"\\n\",\" \"))"
   ]
  },
  {
   "cell_type": "code",
   "execution_count": 51,
   "id": "65c009d9",
   "metadata": {},
   "outputs": [],
   "source": [
    "reviews1=[]#empty list\n",
    "for i in urls1:\n",
    "    driver.get(i)\n",
    "    #time.sleep(1)\n",
    "    for j in driver.find_elements_by_xpath(\"//a[@data-hook='review-title']\"):\n",
    "        reviews1.append(j.text.replace(\"\\n\",\" \"))"
   ]
  },
  {
   "cell_type": "code",
   "execution_count": 81,
   "id": "c7f3b7e5",
   "metadata": {},
   "outputs": [
    {
     "data": {
      "text/html": [
       "<div>\n",
       "<style scoped>\n",
       "    .dataframe tbody tr th:only-of-type {\n",
       "        vertical-align: middle;\n",
       "    }\n",
       "\n",
       "    .dataframe tbody tr th {\n",
       "        vertical-align: top;\n",
       "    }\n",
       "\n",
       "    .dataframe thead th {\n",
       "        text-align: right;\n",
       "    }\n",
       "</style>\n",
       "<table border=\"1\" class=\"dataframe\">\n",
       "  <thead>\n",
       "    <tr style=\"text-align: right;\">\n",
       "      <th></th>\n",
       "      <th>Unnamed: 0</th>\n",
       "      <th>review_content</th>\n",
       "      <th>rating</th>\n",
       "    </tr>\n",
       "  </thead>\n",
       "  <tbody>\n",
       "    <tr>\n",
       "      <th>1235</th>\n",
       "      <td>1235</td>\n",
       "      <td>Not enough 128 for life scars</td>\n",
       "      <td>5.0 out of 5 stars</td>\n",
       "    </tr>\n",
       "    <tr>\n",
       "      <th>20809</th>\n",
       "      <td>20809</td>\n",
       "      <td>Works well, i use it with my hiby r3.</td>\n",
       "      <td>4.0 out of 5 stars</td>\n",
       "    </tr>\n",
       "    <tr>\n",
       "      <th>13866</th>\n",
       "      <td>13866</td>\n",
       "      <td>Read speed is unbelievable. Maximum 250MB/se...</td>\n",
       "      <td>4.0 out of 5 stars</td>\n",
       "    </tr>\n",
       "  </tbody>\n",
       "</table>\n",
       "</div>"
      ],
      "text/plain": [
       "       Unnamed: 0                                     review_content  \\\n",
       "1235         1235                      Not enough 128 for life scars   \n",
       "20809       20809              Works well, i use it with my hiby r3.   \n",
       "13866       13866    Read speed is unbelievable. Maximum 250MB/se...   \n",
       "\n",
       "                   rating  \n",
       "1235   5.0 out of 5 stars  \n",
       "20809  4.0 out of 5 stars  \n",
       "13866  4.0 out of 5 stars  "
      ]
     },
     "execution_count": 81,
     "metadata": {},
     "output_type": "execute_result"
    }
   ],
   "source": [
    "df1=pd.DataFrame({})\n",
    "df1['review_content']=reviews\n",
    "df1['rating']=ratings\n",
    "df1.sample(3)"
   ]
  },
  {
   "cell_type": "code",
   "execution_count": 59,
   "id": "0f8ecd1c",
   "metadata": {},
   "outputs": [],
   "source": [
    "driver=webdriver.Chrome(r\"C:\\Users\\Win 10\\Downloads\\chromedriver2\\chromedriver\")\n",
    "driver=webdriver.Chrome(\"chromedriver\")\n",
    "url='https://www.flipkart.com/'             #passing url\n",
    "driver.get(url) \n",
    "close_button=driver.find_element_by_xpath(\"//button[@class='_2KpZ6l _2doB4z']\")\n",
    "close_button.click()"
   ]
  },
  {
   "cell_type": "code",
   "execution_count": 63,
   "id": "ad96c6fc",
   "metadata": {},
   "outputs": [
    {
     "data": {
      "text/plain": [
       "<selenium.webdriver.remote.webelement.WebElement (session=\"3b0fa606e3c84989bc4295ad44c96992\", element=\"b3c4fc7d-0a70-4186-804e-9abc156ffd0f\")>"
      ]
     },
     "execution_count": 63,
     "metadata": {},
     "output_type": "execute_result"
    }
   ],
   "source": [
    "search_field=driver.find_element_by_xpath(\"//div[@class='_3OO5Xc']\")    #fetching search tag using id name\n",
    "search_field.send_keys(\"laptops\") \n",
    "print(search_field)\n",
    "search_button=driver.find_element_by_xpath(\"//button[@class='L0Z3Pu']\")  #fetching search tag using id name\n",
    "search_button.click() "
   ]
  },
  {
   "cell_type": "code",
   "execution_count": null,
   "id": "8c321697",
   "metadata": {},
   "outputs": [],
   "source": [
    "Df=pd.concat([df,df1],ignore_index=True,axis=0)"
   ]
  },
  {
   "cell_type": "code",
   "execution_count": 41,
   "id": "ff68aa0f",
   "metadata": {},
   "outputs": [],
   "source": [
    "Df.to_csv('Scraped_data.csv')"
   ]
  },
  {
   "cell_type": "code",
   "execution_count": 69,
   "id": "2df2bbd0",
   "metadata": {},
   "outputs": [
    {
     "data": {
      "text/html": [
       "<div>\n",
       "<style scoped>\n",
       "    .dataframe tbody tr th:only-of-type {\n",
       "        vertical-align: middle;\n",
       "    }\n",
       "\n",
       "    .dataframe tbody tr th {\n",
       "        vertical-align: top;\n",
       "    }\n",
       "\n",
       "    .dataframe thead th {\n",
       "        text-align: right;\n",
       "    }\n",
       "</style>\n",
       "<table border=\"1\" class=\"dataframe\">\n",
       "  <thead>\n",
       "    <tr style=\"text-align: right;\">\n",
       "      <th></th>\n",
       "      <th>Unnamed: 0</th>\n",
       "      <th>review_content</th>\n",
       "      <th>rating</th>\n",
       "    </tr>\n",
       "  </thead>\n",
       "  <tbody>\n",
       "    <tr>\n",
       "      <th>9778</th>\n",
       "      <td>9778</td>\n",
       "      <td>Just bought and not used under water. So dur...</td>\n",
       "      <td>4.0 out of 5 stars</td>\n",
       "    </tr>\n",
       "    <tr>\n",
       "      <th>19255</th>\n",
       "      <td>19255</td>\n",
       "      <td>My memory card is damaged within warranty pe...</td>\n",
       "      <td>1.0 out of 5 stars</td>\n",
       "    </tr>\n",
       "    <tr>\n",
       "      <th>7347</th>\n",
       "      <td>7347</td>\n",
       "      <td>Awesome Product</td>\n",
       "      <td>5.0 out of 5 stars</td>\n",
       "    </tr>\n",
       "    <tr>\n",
       "      <th>15301</th>\n",
       "      <td>15301</td>\n",
       "      <td>Delivery was nice. SD card is also working f...</td>\n",
       "      <td>4.0 out of 5 stars</td>\n",
       "    </tr>\n",
       "    <tr>\n",
       "      <th>5271</th>\n",
       "      <td>5271</td>\n",
       "      <td>I don't need to expain bout this product..as...</td>\n",
       "      <td>5.0 out of 5 stars</td>\n",
       "    </tr>\n",
       "  </tbody>\n",
       "</table>\n",
       "</div>"
      ],
      "text/plain": [
       "       Unnamed: 0                                     review_content  \\\n",
       "9778         9778    Just bought and not used under water. So dur...   \n",
       "19255       19255    My memory card is damaged within warranty pe...   \n",
       "7347         7347                                    Awesome Product   \n",
       "15301       15301    Delivery was nice. SD card is also working f...   \n",
       "5271         5271    I don't need to expain bout this product..as...   \n",
       "\n",
       "                   rating  \n",
       "9778   4.0 out of 5 stars  \n",
       "19255  1.0 out of 5 stars  \n",
       "7347   5.0 out of 5 stars  \n",
       "15301  4.0 out of 5 stars  \n",
       "5271   5.0 out of 5 stars  "
      ]
     },
     "execution_count": 69,
     "metadata": {},
     "output_type": "execute_result"
    }
   ],
   "source": [
    "Df1=pd.read_csv('scraped_data.csv')\n",
    "Df1.sample(5)"
   ]
  },
  {
   "cell_type": "code",
   "execution_count": 70,
   "id": "78d414a3",
   "metadata": {},
   "outputs": [
    {
     "data": {
      "text/plain": [
       "22622"
      ]
     },
     "execution_count": 70,
     "metadata": {},
     "output_type": "execute_result"
    }
   ],
   "source": [
    "len(Df1)"
   ]
  },
  {
   "cell_type": "code",
   "execution_count": null,
   "id": "7ce4f59f",
   "metadata": {},
   "outputs": [],
   "source": []
  }
 ],
 "metadata": {
  "kernelspec": {
   "display_name": "Python 3",
   "language": "python",
   "name": "python3"
  },
  "language_info": {
   "codemirror_mode": {
    "name": "ipython",
    "version": 3
   },
   "file_extension": ".py",
   "mimetype": "text/x-python",
   "name": "python",
   "nbconvert_exporter": "python",
   "pygments_lexer": "ipython3",
   "version": "3.8.8"
  }
 },
 "nbformat": 4,
 "nbformat_minor": 5
}
