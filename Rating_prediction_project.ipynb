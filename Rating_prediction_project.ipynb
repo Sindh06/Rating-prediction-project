{
 "cells": [
  {
   "cell_type": "markdown",
   "id": "5863bcb9",
   "metadata": {},
   "source": [
    "# Rating Prediction Project"
   ]
  },
  {
   "cell_type": "markdown",
   "id": "5f698421",
   "metadata": {},
   "source": [
    "Submitted By    : Sindhu Shree N\n",
    "    \n",
    "Internship Batch: 19"
   ]
  },
  {
   "cell_type": "code",
   "execution_count": 26,
   "id": "deeeba22",
   "metadata": {},
   "outputs": [],
   "source": [
    "#importing required libraries\n",
    "import pandas as pd\n",
    "import numpy as np\n",
    "import seaborn as sns\n",
    "import matplotlib.pyplot as plt\n",
    "import warnings\n",
    "warnings.filterwarnings(\"ignore\")"
   ]
  },
  {
   "cell_type": "code",
   "execution_count": 27,
   "id": "1fdce554",
   "metadata": {},
   "outputs": [
    {
     "data": {
      "text/html": [
       "<div>\n",
       "<style scoped>\n",
       "    .dataframe tbody tr th:only-of-type {\n",
       "        vertical-align: middle;\n",
       "    }\n",
       "\n",
       "    .dataframe tbody tr th {\n",
       "        vertical-align: top;\n",
       "    }\n",
       "\n",
       "    .dataframe thead th {\n",
       "        text-align: right;\n",
       "    }\n",
       "</style>\n",
       "<table border=\"1\" class=\"dataframe\">\n",
       "  <thead>\n",
       "    <tr style=\"text-align: right;\">\n",
       "      <th></th>\n",
       "      <th>Unnamed: 0</th>\n",
       "      <th>review_content</th>\n",
       "      <th>rating</th>\n",
       "    </tr>\n",
       "  </thead>\n",
       "  <tbody>\n",
       "    <tr>\n",
       "      <th>0</th>\n",
       "      <td>0</td>\n",
       "      <td>Awful service from Amazon</td>\n",
       "      <td>4.1 out of 5</td>\n",
       "    </tr>\n",
       "    <tr>\n",
       "      <th>1</th>\n",
       "      <td>1</td>\n",
       "      <td>Awesome laptop at this price</td>\n",
       "      <td>4.1 out of 5</td>\n",
       "    </tr>\n",
       "    <tr>\n",
       "      <th>2</th>\n",
       "      <td>2</td>\n",
       "      <td>Great Laptop! Extremely happy</td>\n",
       "      <td>4.1 out of 5</td>\n",
       "    </tr>\n",
       "    <tr>\n",
       "      <th>3</th>\n",
       "      <td>3</td>\n",
       "      <td>Overall laptop is good for students and workin...</td>\n",
       "      <td>4.1 out of 5</td>\n",
       "    </tr>\n",
       "    <tr>\n",
       "      <th>4</th>\n",
       "      <td>4</td>\n",
       "      <td>Up to the price.. Great Product.</td>\n",
       "      <td>3.8 out of 5</td>\n",
       "    </tr>\n",
       "    <tr>\n",
       "      <th>...</th>\n",
       "      <td>...</td>\n",
       "      <td>...</td>\n",
       "      <td>...</td>\n",
       "    </tr>\n",
       "    <tr>\n",
       "      <th>22617</th>\n",
       "      <td>22617</td>\n",
       "      <td>It's awesome ...and I have no words about th...</td>\n",
       "      <td>5.0 out of 5 stars</td>\n",
       "    </tr>\n",
       "    <tr>\n",
       "      <th>22618</th>\n",
       "      <td>22618</td>\n",
       "      <td>Good</td>\n",
       "      <td>4.0 out of 5 stars</td>\n",
       "    </tr>\n",
       "    <tr>\n",
       "      <th>22619</th>\n",
       "      <td>22619</td>\n",
       "      <td>Good</td>\n",
       "      <td>4.0 out of 5 stars</td>\n",
       "    </tr>\n",
       "    <tr>\n",
       "      <th>22620</th>\n",
       "      <td>22620</td>\n",
       "      <td>Good one</td>\n",
       "      <td>5.0 out of 5 stars</td>\n",
       "    </tr>\n",
       "    <tr>\n",
       "      <th>22621</th>\n",
       "      <td>22621</td>\n",
       "      <td>Good product</td>\n",
       "      <td>4.0 out of 5 stars</td>\n",
       "    </tr>\n",
       "  </tbody>\n",
       "</table>\n",
       "<p>22622 rows × 3 columns</p>\n",
       "</div>"
      ],
      "text/plain": [
       "       Unnamed: 0                                     review_content  \\\n",
       "0               0                          Awful service from Amazon   \n",
       "1               1                       Awesome laptop at this price   \n",
       "2               2                      Great Laptop! Extremely happy   \n",
       "3               3  Overall laptop is good for students and workin...   \n",
       "4               4                   Up to the price.. Great Product.   \n",
       "...           ...                                                ...   \n",
       "22617       22617    It's awesome ...and I have no words about th...   \n",
       "22618       22618                                               Good   \n",
       "22619       22619                                               Good   \n",
       "22620       22620                                           Good one   \n",
       "22621       22621                                       Good product   \n",
       "\n",
       "                   rating  \n",
       "0            4.1 out of 5  \n",
       "1            4.1 out of 5  \n",
       "2            4.1 out of 5  \n",
       "3            4.1 out of 5  \n",
       "4            3.8 out of 5  \n",
       "...                   ...  \n",
       "22617  5.0 out of 5 stars  \n",
       "22618  4.0 out of 5 stars  \n",
       "22619  4.0 out of 5 stars  \n",
       "22620  5.0 out of 5 stars  \n",
       "22621  4.0 out of 5 stars  \n",
       "\n",
       "[22622 rows x 3 columns]"
      ]
     },
     "execution_count": 27,
     "metadata": {},
     "output_type": "execute_result"
    }
   ],
   "source": [
    "#reading csv file\n",
    "df=pd.read_csv(\"Scraped_data.csv\")\n",
    "df"
   ]
  },
  {
   "cell_type": "code",
   "execution_count": 28,
   "id": "809892c6",
   "metadata": {},
   "outputs": [
    {
     "data": {
      "text/plain": [
       "(22622, 3)"
      ]
     },
     "execution_count": 28,
     "metadata": {},
     "output_type": "execute_result"
    }
   ],
   "source": [
    "#displaying shape of the above dataframe\n",
    "df.shape"
   ]
  },
  {
   "cell_type": "markdown",
   "id": "13d14e24",
   "metadata": {},
   "source": [
    "So there are 22622 rows and 3 columns"
   ]
  },
  {
   "cell_type": "code",
   "execution_count": 29,
   "id": "aba4bdd8",
   "metadata": {},
   "outputs": [
    {
     "data": {
      "text/plain": [
       "Unnamed: 0         int64\n",
       "review_content    object\n",
       "rating            object\n",
       "dtype: object"
      ]
     },
     "execution_count": 29,
     "metadata": {},
     "output_type": "execute_result"
    }
   ],
   "source": [
    "df.dtypes"
   ]
  },
  {
   "cell_type": "markdown",
   "id": "d8970e8a",
   "metadata": {},
   "source": [
    "Where both the review and the ratings are of object datatype."
   ]
  },
  {
   "cell_type": "code",
   "execution_count": 30,
   "id": "8d115867",
   "metadata": {},
   "outputs": [
    {
     "name": "stdout",
     "output_type": "stream",
     "text": [
      "<class 'pandas.core.frame.DataFrame'>\n",
      "RangeIndex: 22622 entries, 0 to 22621\n",
      "Data columns (total 3 columns):\n",
      " #   Column          Non-Null Count  Dtype \n",
      "---  ------          --------------  ----- \n",
      " 0   Unnamed: 0      22622 non-null  int64 \n",
      " 1   review_content  22622 non-null  object\n",
      " 2   rating          22622 non-null  object\n",
      "dtypes: int64(1), object(2)\n",
      "memory usage: 530.3+ KB\n"
     ]
    }
   ],
   "source": [
    "df.info()"
   ]
  },
  {
   "cell_type": "code",
   "execution_count": 31,
   "id": "08edb3e6",
   "metadata": {},
   "outputs": [
    {
     "data": {
      "text/plain": [
       "Unnamed: 0        0\n",
       "review_content    0\n",
       "rating            0\n",
       "dtype: int64"
      ]
     },
     "execution_count": 31,
     "metadata": {},
     "output_type": "execute_result"
    }
   ],
   "source": [
    "df.isnull().sum()"
   ]
  },
  {
   "cell_type": "code",
   "execution_count": 32,
   "id": "b17f3f43",
   "metadata": {},
   "outputs": [
    {
     "data": {
      "text/plain": [
       "Unnamed: 0        False\n",
       "review_content    False\n",
       "rating            False\n",
       "dtype: bool"
      ]
     },
     "execution_count": 32,
     "metadata": {},
     "output_type": "execute_result"
    }
   ],
   "source": [
    "df.isnull().any()"
   ]
  },
  {
   "cell_type": "code",
   "execution_count": 33,
   "id": "d6bfa980",
   "metadata": {},
   "outputs": [
    {
     "data": {
      "text/html": [
       "<div>\n",
       "<style scoped>\n",
       "    .dataframe tbody tr th:only-of-type {\n",
       "        vertical-align: middle;\n",
       "    }\n",
       "\n",
       "    .dataframe tbody tr th {\n",
       "        vertical-align: top;\n",
       "    }\n",
       "\n",
       "    .dataframe thead th {\n",
       "        text-align: right;\n",
       "    }\n",
       "</style>\n",
       "<table border=\"1\" class=\"dataframe\">\n",
       "  <thead>\n",
       "    <tr style=\"text-align: right;\">\n",
       "      <th></th>\n",
       "      <th>Unnamed: 0</th>\n",
       "      <th>review_content</th>\n",
       "      <th>rating</th>\n",
       "    </tr>\n",
       "  </thead>\n",
       "  <tbody>\n",
       "    <tr>\n",
       "      <th>count</th>\n",
       "      <td>22622.000000</td>\n",
       "      <td>22622</td>\n",
       "      <td>22622</td>\n",
       "    </tr>\n",
       "    <tr>\n",
       "      <th>unique</th>\n",
       "      <td>NaN</td>\n",
       "      <td>3622</td>\n",
       "      <td>14</td>\n",
       "    </tr>\n",
       "    <tr>\n",
       "      <th>top</th>\n",
       "      <td>NaN</td>\n",
       "      <td>Good</td>\n",
       "      <td>5.0 out of 5 stars</td>\n",
       "    </tr>\n",
       "    <tr>\n",
       "      <th>freq</th>\n",
       "      <td>NaN</td>\n",
       "      <td>1460</td>\n",
       "      <td>15245</td>\n",
       "    </tr>\n",
       "    <tr>\n",
       "      <th>mean</th>\n",
       "      <td>11310.500000</td>\n",
       "      <td>NaN</td>\n",
       "      <td>NaN</td>\n",
       "    </tr>\n",
       "    <tr>\n",
       "      <th>std</th>\n",
       "      <td>6530.553231</td>\n",
       "      <td>NaN</td>\n",
       "      <td>NaN</td>\n",
       "    </tr>\n",
       "    <tr>\n",
       "      <th>min</th>\n",
       "      <td>0.000000</td>\n",
       "      <td>NaN</td>\n",
       "      <td>NaN</td>\n",
       "    </tr>\n",
       "    <tr>\n",
       "      <th>25%</th>\n",
       "      <td>5655.250000</td>\n",
       "      <td>NaN</td>\n",
       "      <td>NaN</td>\n",
       "    </tr>\n",
       "    <tr>\n",
       "      <th>50%</th>\n",
       "      <td>11310.500000</td>\n",
       "      <td>NaN</td>\n",
       "      <td>NaN</td>\n",
       "    </tr>\n",
       "    <tr>\n",
       "      <th>75%</th>\n",
       "      <td>16965.750000</td>\n",
       "      <td>NaN</td>\n",
       "      <td>NaN</td>\n",
       "    </tr>\n",
       "    <tr>\n",
       "      <th>max</th>\n",
       "      <td>22621.000000</td>\n",
       "      <td>NaN</td>\n",
       "      <td>NaN</td>\n",
       "    </tr>\n",
       "  </tbody>\n",
       "</table>\n",
       "</div>"
      ],
      "text/plain": [
       "          Unnamed: 0 review_content              rating\n",
       "count   22622.000000          22622               22622\n",
       "unique           NaN           3622                  14\n",
       "top              NaN           Good  5.0 out of 5 stars\n",
       "freq             NaN           1460               15245\n",
       "mean    11310.500000            NaN                 NaN\n",
       "std      6530.553231            NaN                 NaN\n",
       "min         0.000000            NaN                 NaN\n",
       "25%      5655.250000            NaN                 NaN\n",
       "50%     11310.500000            NaN                 NaN\n",
       "75%     16965.750000            NaN                 NaN\n",
       "max     22621.000000            NaN                 NaN"
      ]
     },
     "execution_count": 33,
     "metadata": {},
     "output_type": "execute_result"
    }
   ],
   "source": [
    "#statistical summary\n",
    "df.describe(include='all')"
   ]
  },
  {
   "cell_type": "markdown",
   "id": "17052496",
   "metadata": {},
   "source": [
    "Now we need to extract only rate integer in rating feature. "
   ]
  },
  {
   "cell_type": "code",
   "execution_count": 34,
   "id": "e024b58e",
   "metadata": {},
   "outputs": [
    {
     "data": {
      "text/html": [
       "<div>\n",
       "<style scoped>\n",
       "    .dataframe tbody tr th:only-of-type {\n",
       "        vertical-align: middle;\n",
       "    }\n",
       "\n",
       "    .dataframe tbody tr th {\n",
       "        vertical-align: top;\n",
       "    }\n",
       "\n",
       "    .dataframe thead th {\n",
       "        text-align: right;\n",
       "    }\n",
       "</style>\n",
       "<table border=\"1\" class=\"dataframe\">\n",
       "  <thead>\n",
       "    <tr style=\"text-align: right;\">\n",
       "      <th></th>\n",
       "      <th>0</th>\n",
       "    </tr>\n",
       "  </thead>\n",
       "  <tbody>\n",
       "    <tr>\n",
       "      <th>0</th>\n",
       "      <td>4</td>\n",
       "    </tr>\n",
       "    <tr>\n",
       "      <th>1</th>\n",
       "      <td>4</td>\n",
       "    </tr>\n",
       "    <tr>\n",
       "      <th>2</th>\n",
       "      <td>4</td>\n",
       "    </tr>\n",
       "    <tr>\n",
       "      <th>3</th>\n",
       "      <td>4</td>\n",
       "    </tr>\n",
       "    <tr>\n",
       "      <th>4</th>\n",
       "      <td>3</td>\n",
       "    </tr>\n",
       "    <tr>\n",
       "      <th>...</th>\n",
       "      <td>...</td>\n",
       "    </tr>\n",
       "    <tr>\n",
       "      <th>22617</th>\n",
       "      <td>5</td>\n",
       "    </tr>\n",
       "    <tr>\n",
       "      <th>22618</th>\n",
       "      <td>4</td>\n",
       "    </tr>\n",
       "    <tr>\n",
       "      <th>22619</th>\n",
       "      <td>4</td>\n",
       "    </tr>\n",
       "    <tr>\n",
       "      <th>22620</th>\n",
       "      <td>5</td>\n",
       "    </tr>\n",
       "    <tr>\n",
       "      <th>22621</th>\n",
       "      <td>4</td>\n",
       "    </tr>\n",
       "  </tbody>\n",
       "</table>\n",
       "<p>22622 rows × 1 columns</p>\n",
       "</div>"
      ],
      "text/plain": [
       "       0\n",
       "0      4\n",
       "1      4\n",
       "2      4\n",
       "3      4\n",
       "4      3\n",
       "...   ..\n",
       "22617  5\n",
       "22618  4\n",
       "22619  4\n",
       "22620  5\n",
       "22621  4\n",
       "\n",
       "[22622 rows x 1 columns]"
      ]
     },
     "execution_count": 34,
     "metadata": {},
     "output_type": "execute_result"
    }
   ],
   "source": [
    "extracted_rate=df.rating.str.extract('(\\d+)')\n",
    "extracted_rate"
   ]
  },
  {
   "cell_type": "code",
   "execution_count": 35,
   "id": "ef3d8bef",
   "metadata": {},
   "outputs": [
    {
     "data": {
      "text/html": [
       "<div>\n",
       "<style scoped>\n",
       "    .dataframe tbody tr th:only-of-type {\n",
       "        vertical-align: middle;\n",
       "    }\n",
       "\n",
       "    .dataframe tbody tr th {\n",
       "        vertical-align: top;\n",
       "    }\n",
       "\n",
       "    .dataframe thead th {\n",
       "        text-align: right;\n",
       "    }\n",
       "</style>\n",
       "<table border=\"1\" class=\"dataframe\">\n",
       "  <thead>\n",
       "    <tr style=\"text-align: right;\">\n",
       "      <th></th>\n",
       "      <th>Unnamed: 0</th>\n",
       "      <th>review_content</th>\n",
       "      <th>rating</th>\n",
       "      <th>new_rating</th>\n",
       "    </tr>\n",
       "  </thead>\n",
       "  <tbody>\n",
       "    <tr>\n",
       "      <th>0</th>\n",
       "      <td>0</td>\n",
       "      <td>Awful service from Amazon</td>\n",
       "      <td>4.1 out of 5</td>\n",
       "      <td>4</td>\n",
       "    </tr>\n",
       "    <tr>\n",
       "      <th>1</th>\n",
       "      <td>1</td>\n",
       "      <td>Awesome laptop at this price</td>\n",
       "      <td>4.1 out of 5</td>\n",
       "      <td>4</td>\n",
       "    </tr>\n",
       "    <tr>\n",
       "      <th>2</th>\n",
       "      <td>2</td>\n",
       "      <td>Great Laptop! Extremely happy</td>\n",
       "      <td>4.1 out of 5</td>\n",
       "      <td>4</td>\n",
       "    </tr>\n",
       "    <tr>\n",
       "      <th>3</th>\n",
       "      <td>3</td>\n",
       "      <td>Overall laptop is good for students and workin...</td>\n",
       "      <td>4.1 out of 5</td>\n",
       "      <td>4</td>\n",
       "    </tr>\n",
       "    <tr>\n",
       "      <th>4</th>\n",
       "      <td>4</td>\n",
       "      <td>Up to the price.. Great Product.</td>\n",
       "      <td>3.8 out of 5</td>\n",
       "      <td>3</td>\n",
       "    </tr>\n",
       "    <tr>\n",
       "      <th>...</th>\n",
       "      <td>...</td>\n",
       "      <td>...</td>\n",
       "      <td>...</td>\n",
       "      <td>...</td>\n",
       "    </tr>\n",
       "    <tr>\n",
       "      <th>22617</th>\n",
       "      <td>22617</td>\n",
       "      <td>It's awesome ...and I have no words about th...</td>\n",
       "      <td>5.0 out of 5 stars</td>\n",
       "      <td>5</td>\n",
       "    </tr>\n",
       "    <tr>\n",
       "      <th>22618</th>\n",
       "      <td>22618</td>\n",
       "      <td>Good</td>\n",
       "      <td>4.0 out of 5 stars</td>\n",
       "      <td>4</td>\n",
       "    </tr>\n",
       "    <tr>\n",
       "      <th>22619</th>\n",
       "      <td>22619</td>\n",
       "      <td>Good</td>\n",
       "      <td>4.0 out of 5 stars</td>\n",
       "      <td>4</td>\n",
       "    </tr>\n",
       "    <tr>\n",
       "      <th>22620</th>\n",
       "      <td>22620</td>\n",
       "      <td>Good one</td>\n",
       "      <td>5.0 out of 5 stars</td>\n",
       "      <td>5</td>\n",
       "    </tr>\n",
       "    <tr>\n",
       "      <th>22621</th>\n",
       "      <td>22621</td>\n",
       "      <td>Good product</td>\n",
       "      <td>4.0 out of 5 stars</td>\n",
       "      <td>4</td>\n",
       "    </tr>\n",
       "  </tbody>\n",
       "</table>\n",
       "<p>22622 rows × 4 columns</p>\n",
       "</div>"
      ],
      "text/plain": [
       "       Unnamed: 0                                     review_content  \\\n",
       "0               0                          Awful service from Amazon   \n",
       "1               1                       Awesome laptop at this price   \n",
       "2               2                      Great Laptop! Extremely happy   \n",
       "3               3  Overall laptop is good for students and workin...   \n",
       "4               4                   Up to the price.. Great Product.   \n",
       "...           ...                                                ...   \n",
       "22617       22617    It's awesome ...and I have no words about th...   \n",
       "22618       22618                                               Good   \n",
       "22619       22619                                               Good   \n",
       "22620       22620                                           Good one   \n",
       "22621       22621                                       Good product   \n",
       "\n",
       "                   rating new_rating  \n",
       "0            4.1 out of 5          4  \n",
       "1            4.1 out of 5          4  \n",
       "2            4.1 out of 5          4  \n",
       "3            4.1 out of 5          4  \n",
       "4            3.8 out of 5          3  \n",
       "...                   ...        ...  \n",
       "22617  5.0 out of 5 stars          5  \n",
       "22618  4.0 out of 5 stars          4  \n",
       "22619  4.0 out of 5 stars          4  \n",
       "22620  5.0 out of 5 stars          5  \n",
       "22621  4.0 out of 5 stars          4  \n",
       "\n",
       "[22622 rows x 4 columns]"
      ]
     },
     "execution_count": 35,
     "metadata": {},
     "output_type": "execute_result"
    }
   ],
   "source": [
    "Df=pd.concat([df,extracted_rate],ignore_index=True,axis=1)\n",
    "Df.columns=['Unnamed: 0','review_content','rating','new_rating']\n",
    "Df"
   ]
  },
  {
   "cell_type": "markdown",
   "id": "6418b8a9",
   "metadata": {},
   "source": [
    "Now we can see that the new_rating feature has only integers which are rounded to its nearest integer."
   ]
  },
  {
   "cell_type": "markdown",
   "id": "216941e2",
   "metadata": {},
   "source": [
    "Since Unnamed: 0 is just an index we can drop that feature. And new_rating is the extracted one so that we can delete rating feature."
   ]
  },
  {
   "cell_type": "code",
   "execution_count": 36,
   "id": "2e0969b2",
   "metadata": {},
   "outputs": [
    {
     "data": {
      "text/html": [
       "<div>\n",
       "<style scoped>\n",
       "    .dataframe tbody tr th:only-of-type {\n",
       "        vertical-align: middle;\n",
       "    }\n",
       "\n",
       "    .dataframe tbody tr th {\n",
       "        vertical-align: top;\n",
       "    }\n",
       "\n",
       "    .dataframe thead th {\n",
       "        text-align: right;\n",
       "    }\n",
       "</style>\n",
       "<table border=\"1\" class=\"dataframe\">\n",
       "  <thead>\n",
       "    <tr style=\"text-align: right;\">\n",
       "      <th></th>\n",
       "      <th>review_content</th>\n",
       "      <th>new_rating</th>\n",
       "    </tr>\n",
       "  </thead>\n",
       "  <tbody>\n",
       "    <tr>\n",
       "      <th>0</th>\n",
       "      <td>Awful service from Amazon</td>\n",
       "      <td>4</td>\n",
       "    </tr>\n",
       "    <tr>\n",
       "      <th>1</th>\n",
       "      <td>Awesome laptop at this price</td>\n",
       "      <td>4</td>\n",
       "    </tr>\n",
       "    <tr>\n",
       "      <th>2</th>\n",
       "      <td>Great Laptop! Extremely happy</td>\n",
       "      <td>4</td>\n",
       "    </tr>\n",
       "    <tr>\n",
       "      <th>3</th>\n",
       "      <td>Overall laptop is good for students and workin...</td>\n",
       "      <td>4</td>\n",
       "    </tr>\n",
       "    <tr>\n",
       "      <th>4</th>\n",
       "      <td>Up to the price.. Great Product.</td>\n",
       "      <td>3</td>\n",
       "    </tr>\n",
       "    <tr>\n",
       "      <th>...</th>\n",
       "      <td>...</td>\n",
       "      <td>...</td>\n",
       "    </tr>\n",
       "    <tr>\n",
       "      <th>22617</th>\n",
       "      <td>It's awesome ...and I have no words about th...</td>\n",
       "      <td>5</td>\n",
       "    </tr>\n",
       "    <tr>\n",
       "      <th>22618</th>\n",
       "      <td>Good</td>\n",
       "      <td>4</td>\n",
       "    </tr>\n",
       "    <tr>\n",
       "      <th>22619</th>\n",
       "      <td>Good</td>\n",
       "      <td>4</td>\n",
       "    </tr>\n",
       "    <tr>\n",
       "      <th>22620</th>\n",
       "      <td>Good one</td>\n",
       "      <td>5</td>\n",
       "    </tr>\n",
       "    <tr>\n",
       "      <th>22621</th>\n",
       "      <td>Good product</td>\n",
       "      <td>4</td>\n",
       "    </tr>\n",
       "  </tbody>\n",
       "</table>\n",
       "<p>22622 rows × 2 columns</p>\n",
       "</div>"
      ],
      "text/plain": [
       "                                          review_content new_rating\n",
       "0                              Awful service from Amazon          4\n",
       "1                           Awesome laptop at this price          4\n",
       "2                          Great Laptop! Extremely happy          4\n",
       "3      Overall laptop is good for students and workin...          4\n",
       "4                       Up to the price.. Great Product.          3\n",
       "...                                                  ...        ...\n",
       "22617    It's awesome ...and I have no words about th...          5\n",
       "22618                                               Good          4\n",
       "22619                                               Good          4\n",
       "22620                                           Good one          5\n",
       "22621                                       Good product          4\n",
       "\n",
       "[22622 rows x 2 columns]"
      ]
     },
     "execution_count": 36,
     "metadata": {},
     "output_type": "execute_result"
    }
   ],
   "source": [
    "Df.drop(['Unnamed: 0','rating'],axis=1,inplace=True)\n",
    "Df"
   ]
  },
  {
   "cell_type": "code",
   "execution_count": 37,
   "id": "1c38a386",
   "metadata": {},
   "outputs": [
    {
     "data": {
      "text/plain": [
       "<AxesSubplot:>"
      ]
     },
     "execution_count": 37,
     "metadata": {},
     "output_type": "execute_result"
    },
    {
     "data": {
      "image/png": "[encoded data removed]",
      "text/plain": [
       "<Figure size 432x288 with 2 Axes>"
      ]
     },
     "metadata": {
      "needs_background": "light"
     },
     "output_type": "display_data"
    }
   ],
   "source": [
    "#checking for null values\n",
    "sns.heatmap(Df.isnull())"
   ]
  },
  {
   "cell_type": "markdown",
   "id": "0d1b207f",
   "metadata": {},
   "source": [
    "So there are no null values."
   ]
  },
  {
   "cell_type": "code",
   "execution_count": 38,
   "id": "3a62f1b3",
   "metadata": {},
   "outputs": [
    {
     "data": {
      "text/plain": [
       "<AxesSubplot:xlabel='new_rating', ylabel='count'>"
      ]
     },
     "execution_count": 38,
     "metadata": {},
     "output_type": "execute_result"
    },
    {
     "data": {
      "image/png": "[encoded data removed]",
      "text/plain": [
       "<Figure size 432x288 with 1 Axes>"
      ]
     },
     "metadata": {
      "needs_background": "light"
     },
     "output_type": "display_data"
    }
   ],
   "source": [
    "sns.countplot(Df['new_rating'])"
   ]
  },
  {
   "cell_type": "markdown",
   "id": "634f2a27",
   "metadata": {},
   "source": [
    "We can see that the maximum ratings given by customers are 5 followed by 4, 1,3 and 2 respectively."
   ]
  },
  {
   "cell_type": "code",
   "execution_count": 39,
   "id": "66f5f2e0",
   "metadata": {},
   "outputs": [
    {
     "data": {
      "image/png": "[encoded data removed]",
      "text/plain": [
       "<Figure size 432x288 with 1 Axes>"
      ]
     },
     "metadata": {
      "needs_background": "light"
     },
     "output_type": "display_data"
    }
   ],
   "source": [
    "#extracting good words from the first row of the review_content feature\n",
    "from wordcloud import WordCloud\n",
    "text = Df.review_content[0]\n",
    "wordcloud= WordCloud().generate(text)\n",
    "plt.imshow(wordcloud, interpolation='bilinear')\n",
    "plt.axis(\"off\")\n",
    "plt.show()"
   ]
  },
  {
   "cell_type": "code",
   "execution_count": 40,
   "id": "2bc42207",
   "metadata": {},
   "outputs": [
    {
     "name": "stdout",
     "output_type": "stream",
     "text": [
      "There are 1783744 words in the combination of all review.\n"
     ]
    }
   ],
   "source": [
    "#merging all the review_content text with the previous text.\n",
    "text=\" \".join(review for review in Df.review_content)\n",
    "print(\"There are {} words in the combination of all review.\".format(len(text)))"
   ]
  },
  {
   "cell_type": "code",
   "execution_count": 41,
   "id": "059f83da",
   "metadata": {},
   "outputs": [
    {
     "data": {
      "image/png": "[encoded data removed]",
      "text/plain": [
       "<Figure size 432x288 with 1 Axes>"
      ]
     },
     "metadata": {
      "needs_background": "light"
     },
     "output_type": "display_data"
    }
   ],
   "source": [
    "#getting the sense of good words used by reviewers\n",
    "from nltk.corpus import stopwords\n",
    "from wordcloud import STOPWORDS\n",
    "stopwords = set(STOPWORDS)\n",
    "stopwords.update(['service','product','amazon','write','samsung','memory','card','sd','phone','one','GB','device','speed','buy'])\n",
    "wordcloud=WordCloud(stopwords=stopwords, background_color=\"black\").generate(text)\n",
    "plt.imshow(wordcloud, interpolation='bilinear')\n",
    "plt.axis(\"off\")\n",
    "plt.show()"
   ]
  },
  {
   "cell_type": "code",
   "execution_count": 42,
   "id": "1c5c2dc3",
   "metadata": {},
   "outputs": [
    {
     "data": {
      "text/plain": [
       "<AxesSubplot:ylabel='None'>"
      ]
     },
     "execution_count": 42,
     "metadata": {},
     "output_type": "execute_result"
    },
    {
     "data": {
      "image/png": "[encoded data removed]",
      "text/plain": [
       "<Figure size 432x288 with 1 Axes>"
      ]
     },
     "metadata": {},
     "output_type": "display_data"
    }
   ],
   "source": [
    "#printing pie chart to get the percentage of rating used\n",
    "Df.groupby('new_rating').size().plot(kind='pie', autopct='%.2f%%',colors=['skyblue','green','gold','violet','tomato'])"
   ]
  },
  {
   "cell_type": "markdown",
   "id": "4b23e177",
   "metadata": {},
   "source": [
    "We can see that 67.39% of customers given the rating of 5, 18.64% rated 4, 7.98% customers rated 1, 4.51% of customers rated 3 and remaining 1.48% of customers given 2 rating number."
   ]
  },
  {
   "cell_type": "code",
   "execution_count": 43,
   "id": "00e99d35",
   "metadata": {},
   "outputs": [],
   "source": [
    "#removing stopwords and punctuations in the text data.\n",
    "def text_process(review_content):\n",
    "    nopunc = [i for i in review_content if i not in string.punctuation]\n",
    "    nopunc=nopunc.lower()\n",
    "    nopunc_text=' '.join(nopunc)\n",
    "    return [i for i in nopunc_text.split() if i not in stopwords.words('english')]"
   ]
  },
  {
   "cell_type": "code",
   "execution_count": 44,
   "id": "3d6c92f3",
   "metadata": {},
   "outputs": [
    {
     "data": {
      "text/plain": [
       "new_rating   -1.981361\n",
       "dtype: float64"
      ]
     },
     "execution_count": 44,
     "metadata": {},
     "output_type": "execute_result"
    }
   ],
   "source": [
    "Df.skew()"
   ]
  },
  {
   "cell_type": "code",
   "execution_count": 45,
   "id": "2330d6a3",
   "metadata": {},
   "outputs": [],
   "source": [
    "from sklearn.feature_extraction.text import TfidfVectorizer\n",
    "tf_vec=TfidfVectorizer(max_features=10000, stop_words='english')\n",
    "features=tf_vec.fit_transform(Df['review_content'])\n",
    "x=features"
   ]
  },
  {
   "cell_type": "code",
   "execution_count": 46,
   "id": "f73a6135",
   "metadata": {},
   "outputs": [],
   "source": [
    "from sklearn.model_selection import train_test_split\n",
    "from sklearn.metrics import mean_squared_error,mean_absolute_error\n",
    "from sklearn.model_selection import cross_val_score\n",
    "y=Df['new_rating']\n",
    "x_train,x_test,y_train,y_test=train_test_split(x,y,random_state=42,test_size=0.20)"
   ]
  },
  {
   "cell_type": "code",
   "execution_count": 47,
   "id": "e31cb1a7",
   "metadata": {},
   "outputs": [
    {
     "data": {
      "text/plain": [
       "((18097,), (4525,))"
      ]
     },
     "execution_count": 47,
     "metadata": {},
     "output_type": "execute_result"
    }
   ],
   "source": [
    "y_train.shape,y_test.shape"
   ]
  },
  {
   "cell_type": "markdown",
   "id": "984a2260",
   "metadata": {},
   "source": [
    "# Linear Regression:"
   ]
  },
  {
   "cell_type": "code",
   "execution_count": 48,
   "id": "a5db693f",
   "metadata": {},
   "outputs": [],
   "source": [
    "from sklearn.linear_model import LinearRegression\n",
    "lr=LinearRegression()\n",
    "lr.fit(x_train,y_train)\n",
    "y_pred_lr=lr.predict(x_test)"
   ]
  },
  {
   "cell_type": "code",
   "execution_count": 49,
   "id": "84ad82ff",
   "metadata": {},
   "outputs": [],
   "source": [
    "training_data_prediction=lr.predict(x_train)"
   ]
  },
  {
   "cell_type": "code",
   "execution_count": 50,
   "id": "84937cb1",
   "metadata": {},
   "outputs": [
    {
     "name": "stdout",
     "output_type": "stream",
     "text": [
      "R squared error : 0.8568213077968965\n"
     ]
    }
   ],
   "source": [
    "from sklearn.metrics import r2_score\n",
    "error=r2_score(y_train,training_data_prediction)\n",
    "print(\"R squared error :\",error)"
   ]
  },
  {
   "cell_type": "code",
   "execution_count": 51,
   "id": "e4ccd641",
   "metadata": {},
   "outputs": [],
   "source": [
    "testing_data_prediction=lr.predict(x_test)"
   ]
  },
  {
   "cell_type": "code",
   "execution_count": 52,
   "id": "c3809789",
   "metadata": {},
   "outputs": [
    {
     "name": "stdout",
     "output_type": "stream",
     "text": [
      "R squared error : 0.84333593010761\n"
     ]
    }
   ],
   "source": [
    "error=r2_score(y_test,testing_data_prediction)\n",
    "print(\"R squared error :\",error)"
   ]
  },
  {
   "cell_type": "code",
   "execution_count": 53,
   "id": "50834f3c",
   "metadata": {},
   "outputs": [
    {
     "name": "stdout",
     "output_type": "stream",
     "text": [
      "error:\n",
      "Mean absolute error: 0.25089368303800796\n",
      "Mean squared error: 0.21918413287002542\n",
      "Root mean squared error: 0.4681710508671221\n"
     ]
    }
   ],
   "source": [
    "print(\"error:\")\n",
    "\n",
    "print('Mean absolute error:', mean_absolute_error(y_test,y_pred_lr))\n",
    "print('Mean squared error:', mean_squared_error(y_test,y_pred_lr))\n",
    "\n",
    "print('Root mean squared error:', np.sqrt(mean_squared_error(y_test,y_pred_lr)))"
   ]
  },
  {
   "cell_type": "code",
   "execution_count": 54,
   "id": "65e2fbc8",
   "metadata": {},
   "outputs": [
    {
     "data": {
      "text/plain": [
       "array([4.99625438, 4.9999996 , 4.0000027 , ..., 5.06100839, 4.61408996,\n",
       "       4.9999947 ])"
      ]
     },
     "execution_count": 54,
     "metadata": {},
     "output_type": "execute_result"
    }
   ],
   "source": [
    "y_pred=lr.predict(x_test)\n",
    "y_pred"
   ]
  },
  {
   "cell_type": "markdown",
   "id": "81bacf60",
   "metadata": {},
   "source": [
    "# Decision Tree Regressor:"
   ]
  },
  {
   "cell_type": "code",
   "execution_count": 55,
   "id": "901ba7de",
   "metadata": {},
   "outputs": [],
   "source": [
    "from sklearn.tree import DecisionTreeRegressor\n",
    "dt = DecisionTreeRegressor()\n",
    "dt.fit(x_train,y_train)\n",
    "y_pred_dt = dt.predict(x_test)"
   ]
  },
  {
   "cell_type": "code",
   "execution_count": 56,
   "id": "b26c428e",
   "metadata": {},
   "outputs": [],
   "source": [
    "training_data_prediction=dt.predict(x_train)"
   ]
  },
  {
   "cell_type": "code",
   "execution_count": 57,
   "id": "b476ab7e",
   "metadata": {},
   "outputs": [
    {
     "name": "stdout",
     "output_type": "stream",
     "text": [
      "R squared error : 0.9209487552292118\n"
     ]
    }
   ],
   "source": [
    "error=r2_score(y_train,training_data_prediction)\n",
    "print(\"R squared error :\",error)"
   ]
  },
  {
   "cell_type": "code",
   "execution_count": 58,
   "id": "fe6a94c3",
   "metadata": {},
   "outputs": [],
   "source": [
    "testing_data_prediction=dt.predict(x_test)"
   ]
  },
  {
   "cell_type": "code",
   "execution_count": 59,
   "id": "15ea5079",
   "metadata": {},
   "outputs": [
    {
     "name": "stdout",
     "output_type": "stream",
     "text": [
      "R squared error : 0.9153383806646845\n"
     ]
    }
   ],
   "source": [
    "error=r2_score(y_test,testing_data_prediction)\n",
    "print(\"R squared error :\",error)"
   ]
  },
  {
   "cell_type": "code",
   "execution_count": 60,
   "id": "ca2bc6f0",
   "metadata": {},
   "outputs": [
    {
     "name": "stdout",
     "output_type": "stream",
     "text": [
      "error:\n",
      "Mean absolute error: 0.1360142559606377\n",
      "Mean squared error: 0.11844760342387023\n",
      "Root mean squared error: 0.3441621760505797\n"
     ]
    }
   ],
   "source": [
    "print(\"error:\")\n",
    "\n",
    "print('Mean absolute error:', mean_absolute_error(y_test,y_pred_dt))\n",
    "print('Mean squared error:', mean_squared_error(y_test,y_pred_dt))\n",
    "\n",
    "print('Root mean squared error:', np.sqrt(mean_squared_error(y_test,y_pred_dt)))"
   ]
  },
  {
   "cell_type": "code",
   "execution_count": 61,
   "id": "9e2f4c72",
   "metadata": {},
   "outputs": [
    {
     "data": {
      "text/plain": [
       "array([5.        , 5.        , 4.        , ..., 5.        , 4.60262829,\n",
       "       5.        ])"
      ]
     },
     "execution_count": 61,
     "metadata": {},
     "output_type": "execute_result"
    }
   ],
   "source": [
    "y_pred = dt.predict(x_test)\n",
    "y_pred"
   ]
  },
  {
   "cell_type": "markdown",
   "id": "5a865e31",
   "metadata": {},
   "source": [
    "# Gradient Boosting Regressor:"
   ]
  },
  {
   "cell_type": "code",
   "execution_count": 64,
   "id": "375ee305",
   "metadata": {},
   "outputs": [
    {
     "data": {
      "text/plain": [
       "GradientBoostingRegressor()"
      ]
     },
     "execution_count": 64,
     "metadata": {},
     "output_type": "execute_result"
    }
   ],
   "source": [
    "from sklearn.ensemble import GradientBoostingRegressor\n",
    "gbr=GradientBoostingRegressor()\n",
    "gbr.fit(x_train,y_train)"
   ]
  },
  {
   "cell_type": "code",
   "execution_count": 65,
   "id": "cd6966bd",
   "metadata": {},
   "outputs": [],
   "source": [
    "training_data_prediction=gbr.predict(x_train)"
   ]
  },
  {
   "cell_type": "code",
   "execution_count": 66,
   "id": "d84fbff5",
   "metadata": {},
   "outputs": [
    {
     "name": "stdout",
     "output_type": "stream",
     "text": [
      "R squared error : 0.49458450362441175\n"
     ]
    }
   ],
   "source": [
    "error=r2_score(y_train,training_data_prediction)\n",
    "print(\"R squared error :\",error)"
   ]
  },
  {
   "cell_type": "code",
   "execution_count": 67,
   "id": "397fbd09",
   "metadata": {},
   "outputs": [],
   "source": [
    "testing_data_prediction=gbr.predict(x_test)"
   ]
  },
  {
   "cell_type": "code",
   "execution_count": 68,
   "id": "33bb7d61",
   "metadata": {},
   "outputs": [
    {
     "name": "stdout",
     "output_type": "stream",
     "text": [
      "R squared error : 0.4613694368867851\n"
     ]
    }
   ],
   "source": [
    "error=r2_score(y_test,testing_data_prediction)\n",
    "print(\"R squared error :\",error)"
   ]
  },
  {
   "cell_type": "code",
   "execution_count": 69,
   "id": "16db548c",
   "metadata": {},
   "outputs": [
    {
     "data": {
      "text/plain": [
       "array([4.61732407, 4.67443074, 3.87863626, ..., 4.68491588, 4.61732407,\n",
       "       4.32235141])"
      ]
     },
     "execution_count": 69,
     "metadata": {},
     "output_type": "execute_result"
    }
   ],
   "source": [
    "y_pred_gbr=gbr.predict(x_test)\n",
    "y_pred_gbr"
   ]
  },
  {
   "cell_type": "code",
   "execution_count": 70,
   "id": "d1568285",
   "metadata": {},
   "outputs": [
    {
     "name": "stdout",
     "output_type": "stream",
     "text": [
      "error:\n",
      "Mean absolute error: 0.6566947004022551\n",
      "Mean squared error: 0.7535823178496286\n",
      "Root mean squared error: 0.8680911921276638\n"
     ]
    }
   ],
   "source": [
    "print(\"error:\")\n",
    "\n",
    "print('Mean absolute error:', mean_absolute_error(y_test,y_pred_gbr))\n",
    "print('Mean squared error:', mean_squared_error(y_test,y_pred_gbr))\n",
    "\n",
    "print('Root mean squared error:', np.sqrt(mean_squared_error(y_test,y_pred_gbr)))"
   ]
  },
  {
   "cell_type": "markdown",
   "id": "dac37cc7",
   "metadata": {},
   "source": [
    "# XG Boost Regressor:"
   ]
  },
  {
   "cell_type": "code",
   "execution_count": 71,
   "id": "cc85c6c9",
   "metadata": {},
   "outputs": [
    {
     "data": {
      "text/plain": [
       "XGBRegressor(base_score=0.5, booster='gbtree', colsample_bylevel=1,\n",
       "             colsample_bynode=1, colsample_bytree=1, gamma=0, gpu_id=-1,\n",
       "             importance_type='gain', interaction_constraints='',\n",
       "             learning_rate=0.300000012, max_delta_step=0, max_depth=6,\n",
       "             min_child_weight=1, missing=nan, monotone_constraints='()',\n",
       "             n_estimators=100, n_jobs=4, num_parallel_tree=1, random_state=0,\n",
       "             reg_alpha=0, reg_lambda=1, scale_pos_weight=1, subsample=1,\n",
       "             tree_method='exact', validate_parameters=1, verbosity=None)"
      ]
     },
     "execution_count": 71,
     "metadata": {},
     "output_type": "execute_result"
    }
   ],
   "source": [
    "import xgboost as xgb\n",
    "xg=xgb.XGBRegressor()\n",
    "xg.fit(x_train,y_train)"
   ]
  },
  {
   "cell_type": "code",
   "execution_count": 72,
   "id": "43cb0fa8",
   "metadata": {},
   "outputs": [],
   "source": [
    "training_data_prediction=xg.predict(x_train)"
   ]
  },
  {
   "cell_type": "code",
   "execution_count": 73,
   "id": "59844cb3",
   "metadata": {},
   "outputs": [
    {
     "name": "stdout",
     "output_type": "stream",
     "text": [
      "R Squared Error: 0.7944545276014449\n"
     ]
    }
   ],
   "source": [
    "error=r2_score(y_train,training_data_prediction)\n",
    "print(\"R Squared Error:\",error)"
   ]
  },
  {
   "cell_type": "code",
   "execution_count": 74,
   "id": "8a97e1b5",
   "metadata": {},
   "outputs": [],
   "source": [
    "testing_data_prediction=xg.predict(x_test)"
   ]
  },
  {
   "cell_type": "code",
   "execution_count": 75,
   "id": "61cbd8de",
   "metadata": {},
   "outputs": [
    {
     "name": "stdout",
     "output_type": "stream",
     "text": [
      "R Squared Error: 0.7692717367381614\n"
     ]
    }
   ],
   "source": [
    "error=r2_score(y_test,testing_data_prediction)\n",
    "print(\"R Squared Error:\",error)"
   ]
  },
  {
   "cell_type": "code",
   "execution_count": 76,
   "id": "1a016fea",
   "metadata": {},
   "outputs": [
    {
     "data": {
      "text/plain": [
       "array([4.8187275, 4.7143183, 3.9844687, ..., 4.9174495, 4.6489196,\n",
       "       4.81612  ], dtype=float32)"
      ]
     },
     "execution_count": 76,
     "metadata": {},
     "output_type": "execute_result"
    }
   ],
   "source": [
    "y_pred_xg=xg.predict(x_test)\n",
    "y_pred_xg"
   ]
  },
  {
   "cell_type": "code",
   "execution_count": 77,
   "id": "81c77619",
   "metadata": {},
   "outputs": [
    {
     "name": "stdout",
     "output_type": "stream",
     "text": [
      "error:\n",
      "Mean absolute error: 0.4372538394098124\n",
      "Mean squared error: 0.32280518657781637\n",
      "Root mean squared error: 0.5681594728399909\n"
     ]
    }
   ],
   "source": [
    "print(\"error:\")\n",
    "\n",
    "print('Mean absolute error:', mean_absolute_error(y_test,y_pred_xg))\n",
    "print('Mean squared error:', mean_squared_error(y_test,y_pred_xg))\n",
    "\n",
    "print('Root mean squared error:', np.sqrt(mean_squared_error(y_test,y_pred_xg)))"
   ]
  },
  {
   "cell_type": "markdown",
   "id": "7fff3d2a",
   "metadata": {},
   "source": [
    "Cross Validation Score:"
   ]
  },
  {
   "cell_type": "code",
   "execution_count": 83,
   "id": "101401bf",
   "metadata": {},
   "outputs": [
    {
     "name": "stdout",
     "output_type": "stream",
     "text": [
      "Cross validation score of Linear Regression: 85.33169326947822\n"
     ]
    }
   ],
   "source": [
    "print(\"Cross validation score of Linear Regression:\",cross_val_score(lr,x,y,cv=5).mean()*100)"
   ]
  },
  {
   "cell_type": "code",
   "execution_count": 84,
   "id": "b414bcb2",
   "metadata": {},
   "outputs": [
    {
     "name": "stdout",
     "output_type": "stream",
     "text": [
      "Cross validation score of Decision Tree Regressor: 91.88433899886886\n"
     ]
    }
   ],
   "source": [
    "print(\"Cross validation score of Decision Tree Regressor:\",cross_val_score(dt,x,y,cv=5).mean()*100)"
   ]
  },
  {
   "cell_type": "code",
   "execution_count": 85,
   "id": "b86ce015",
   "metadata": {},
   "outputs": [
    {
     "name": "stdout",
     "output_type": "stream",
     "text": [
      "Cross validation score of Gradient Boosting Regressor: 49.530101714424504\n"
     ]
    }
   ],
   "source": [
    "print(\"Cross validation score of Gradient Boosting Regressor:\",cross_val_score(gbr,x,y,cv=5).mean()*100)"
   ]
  },
  {
   "cell_type": "code",
   "execution_count": 86,
   "id": "7a44f73d",
   "metadata": {},
   "outputs": [
    {
     "name": "stdout",
     "output_type": "stream",
     "text": [
      "Cross validation score of Xg Boosting Regressor: 79.39495864420464\n"
     ]
    }
   ],
   "source": [
    "print(\"Cross validation score of Xg Boosting Regressor:\",cross_val_score(xg,x,y,cv=5).mean()*100)"
   ]
  },
  {
   "cell_type": "markdown",
   "id": "a0c0da40",
   "metadata": {},
   "source": [
    "So we can see that the cross validation score and the r2_score are almost similar so we can use this model for the tuning."
   ]
  },
  {
   "cell_type": "markdown",
   "id": "5c3bfee6",
   "metadata": {},
   "source": [
    "# Hyper Parameter Tuning:"
   ]
  },
  {
   "cell_type": "code",
   "execution_count": 110,
   "id": "f83531ea",
   "metadata": {},
   "outputs": [
    {
     "data": {
      "text/plain": [
       "GridSearchCV(cv=5, estimator=DecisionTreeRegressor(),\n",
       "             param_grid={'max_depth': [500],\n",
       "                         'max_features': ['auto', 'sqrt', 'log2'],\n",
       "                         'min_samples_leaf': [1, 8],\n",
       "                         'min_samples_split': [2, 7],\n",
       "                         'splitter': ['best', 'random']})"
      ]
     },
     "execution_count": 110,
     "metadata": {},
     "output_type": "execute_result"
    }
   ],
   "source": [
    "from sklearn.model_selection import GridSearchCV\n",
    "parameters = { #\"criterion\":[\"absolute_error\",\"poisson\"], \n",
    "              \"splitter\":[\"best\",'random'], \n",
    "              \"max_depth\":[500], \n",
    "              \"min_samples_split\":[2,7], \n",
    "              \"min_samples_leaf\":[1,8],\n",
    "              \"max_features\":[\"auto\",\"sqrt\",\"log2\"]\n",
    "              }\n",
    "grid = GridSearchCV(estimator=dt, param_grid = parameters, cv = 5)\n",
    "grid.fit(x_train, y_train)"
   ]
  },
  {
   "cell_type": "code",
   "execution_count": 111,
   "id": "8dff34e6",
   "metadata": {},
   "outputs": [
    {
     "name": "stdout",
     "output_type": "stream",
     "text": [
      "{'max_depth': 500, 'max_features': 'auto', 'min_samples_leaf': 1, 'min_samples_split': 2, 'splitter': 'best'}\n"
     ]
    }
   ],
   "source": [
    "best_parameters=grid.best_params_\n",
    "print(best_parameters)"
   ]
  },
  {
   "cell_type": "code",
   "execution_count": 119,
   "id": "5729b119",
   "metadata": {},
   "outputs": [
    {
     "data": {
      "text/plain": [
       "92.69611656503385"
      ]
     },
     "execution_count": 119,
     "metadata": {},
     "output_type": "execute_result"
    }
   ],
   "source": [
    "(grid.best_score_)*100"
   ]
  },
  {
   "cell_type": "code",
   "execution_count": 115,
   "id": "0363c751",
   "metadata": {},
   "outputs": [
    {
     "data": {
      "text/plain": [
       "DecisionTreeRegressor(max_depth=500, max_features='auto')"
      ]
     },
     "execution_count": 115,
     "metadata": {},
     "output_type": "execute_result"
    }
   ],
   "source": [
    "clf=DecisionTreeRegressor( max_depth = 500, max_features= 'auto', min_samples_leaf= 1, min_samples_split= 2, splitter = 'best')\n",
    "clf.fit(x_train,y_train)"
   ]
  },
  {
   "cell_type": "code",
   "execution_count": 116,
   "id": "7997935c",
   "metadata": {},
   "outputs": [
    {
     "data": {
      "text/plain": [
       "91.53383806646845"
      ]
     },
     "execution_count": 116,
     "metadata": {},
     "output_type": "execute_result"
    }
   ],
   "source": [
    "clf.score(x_test,y_test)*100"
   ]
  },
  {
   "cell_type": "markdown",
   "id": "66ad4032",
   "metadata": {},
   "source": [
    "We can see that after tuning we are getting the improved result. So we will proceed for further evaluation."
   ]
  },
  {
   "cell_type": "markdown",
   "id": "851bcd4b",
   "metadata": {},
   "source": [
    "# Further Evaluation:"
   ]
  },
  {
   "cell_type": "code",
   "execution_count": 120,
   "id": "f165765a",
   "metadata": {},
   "outputs": [
    {
     "name": "stdout",
     "output_type": "stream",
     "text": [
      "91.53383806646845\n"
     ]
    }
   ],
   "source": [
    "Final_mod = DecisionTreeRegressor()\n",
    "Final_mod.fit(x_train,y_train)\n",
    "pred = Final_mod.predict(x_test)\n",
    "print((r2_score(y_test,pred)*100))"
   ]
  },
  {
   "cell_type": "markdown",
   "id": "dc2da943",
   "metadata": {},
   "source": [
    "# Model Saving:"
   ]
  },
  {
   "cell_type": "code",
   "execution_count": 121,
   "id": "8daaef83",
   "metadata": {},
   "outputs": [
    {
     "name": "stdout",
     "output_type": "stream",
     "text": [
      "Model saved\n"
     ]
    }
   ],
   "source": [
    "import pickle\n",
    "filename = 'Finalmodel.pkl'\n",
    "pickle.dump(Final_mod, open(filename,\"wb\"))\n",
    "print(\"Model saved\")"
   ]
  },
  {
   "cell_type": "markdown",
   "id": "449dfecb",
   "metadata": {},
   "source": [
    "# Conclusion:"
   ]
  },
  {
   "cell_type": "code",
   "execution_count": 122,
   "id": "ca7c72cc",
   "metadata": {},
   "outputs": [
    {
     "name": "stdout",
     "output_type": "stream",
     "text": [
      "     Actual rating  Predicted rating\n",
      "0                5          5.000000\n",
      "1                5          5.000000\n",
      "2                4          4.000000\n",
      "3                4          4.000000\n",
      "4                3          3.937500\n",
      "...            ...               ...\n",
      "4520             5          5.000000\n",
      "4521             5          5.000000\n",
      "4522             5          5.000000\n",
      "4523             4          4.602628\n",
      "4524             5          5.000000\n",
      "\n",
      "[4525 rows x 2 columns]\n"
     ]
    }
   ],
   "source": [
    "preds = dt.predict(x_test)\n",
    "dataframe=pd.DataFrame({})\n",
    "dataframe['Actual rating']=y_test.values\n",
    "dataframe['Predicted rating']=preds\n",
    "print(dataframe)"
   ]
  },
  {
   "cell_type": "code",
   "execution_count": 123,
   "id": "d02a491c",
   "metadata": {},
   "outputs": [
    {
     "data": {
      "text/html": [
       "<div>\n",
       "<style scoped>\n",
       "    .dataframe tbody tr th:only-of-type {\n",
       "        vertical-align: middle;\n",
       "    }\n",
       "\n",
       "    .dataframe tbody tr th {\n",
       "        vertical-align: top;\n",
       "    }\n",
       "\n",
       "    .dataframe thead th {\n",
       "        text-align: right;\n",
       "    }\n",
       "</style>\n",
       "<table border=\"1\" class=\"dataframe\">\n",
       "  <thead>\n",
       "    <tr style=\"text-align: right;\">\n",
       "      <th></th>\n",
       "      <th>Actual rating</th>\n",
       "      <th>Predicted rating</th>\n",
       "    </tr>\n",
       "  </thead>\n",
       "  <tbody>\n",
       "    <tr>\n",
       "      <th>2687</th>\n",
       "      <td>5</td>\n",
       "      <td>4.665842</td>\n",
       "    </tr>\n",
       "    <tr>\n",
       "      <th>1775</th>\n",
       "      <td>4</td>\n",
       "      <td>4.000000</td>\n",
       "    </tr>\n",
       "    <tr>\n",
       "      <th>2962</th>\n",
       "      <td>3</td>\n",
       "      <td>4.696809</td>\n",
       "    </tr>\n",
       "    <tr>\n",
       "      <th>4323</th>\n",
       "      <td>4</td>\n",
       "      <td>4.602628</td>\n",
       "    </tr>\n",
       "    <tr>\n",
       "      <th>3480</th>\n",
       "      <td>4</td>\n",
       "      <td>4.000000</td>\n",
       "    </tr>\n",
       "    <tr>\n",
       "      <th>955</th>\n",
       "      <td>5</td>\n",
       "      <td>4.602628</td>\n",
       "    </tr>\n",
       "    <tr>\n",
       "      <th>1347</th>\n",
       "      <td>2</td>\n",
       "      <td>2.000000</td>\n",
       "    </tr>\n",
       "    <tr>\n",
       "      <th>3705</th>\n",
       "      <td>5</td>\n",
       "      <td>5.000000</td>\n",
       "    </tr>\n",
       "    <tr>\n",
       "      <th>2524</th>\n",
       "      <td>4</td>\n",
       "      <td>4.000000</td>\n",
       "    </tr>\n",
       "    <tr>\n",
       "      <th>848</th>\n",
       "      <td>5</td>\n",
       "      <td>5.000000</td>\n",
       "    </tr>\n",
       "    <tr>\n",
       "      <th>2093</th>\n",
       "      <td>5</td>\n",
       "      <td>4.602628</td>\n",
       "    </tr>\n",
       "    <tr>\n",
       "      <th>1084</th>\n",
       "      <td>5</td>\n",
       "      <td>5.000000</td>\n",
       "    </tr>\n",
       "    <tr>\n",
       "      <th>1566</th>\n",
       "      <td>5</td>\n",
       "      <td>5.000000</td>\n",
       "    </tr>\n",
       "    <tr>\n",
       "      <th>1475</th>\n",
       "      <td>5</td>\n",
       "      <td>5.000000</td>\n",
       "    </tr>\n",
       "    <tr>\n",
       "      <th>2295</th>\n",
       "      <td>4</td>\n",
       "      <td>4.000000</td>\n",
       "    </tr>\n",
       "    <tr>\n",
       "      <th>342</th>\n",
       "      <td>5</td>\n",
       "      <td>5.000000</td>\n",
       "    </tr>\n",
       "    <tr>\n",
       "      <th>3787</th>\n",
       "      <td>1</td>\n",
       "      <td>1.000000</td>\n",
       "    </tr>\n",
       "    <tr>\n",
       "      <th>1304</th>\n",
       "      <td>5</td>\n",
       "      <td>5.000000</td>\n",
       "    </tr>\n",
       "    <tr>\n",
       "      <th>3455</th>\n",
       "      <td>1</td>\n",
       "      <td>1.000000</td>\n",
       "    </tr>\n",
       "    <tr>\n",
       "      <th>2380</th>\n",
       "      <td>5</td>\n",
       "      <td>5.000000</td>\n",
       "    </tr>\n",
       "  </tbody>\n",
       "</table>\n",
       "</div>"
      ],
      "text/plain": [
       "     Actual rating  Predicted rating\n",
       "2687             5          4.665842\n",
       "1775             4          4.000000\n",
       "2962             3          4.696809\n",
       "4323             4          4.602628\n",
       "3480             4          4.000000\n",
       "955              5          4.602628\n",
       "1347             2          2.000000\n",
       "3705             5          5.000000\n",
       "2524             4          4.000000\n",
       "848              5          5.000000\n",
       "2093             5          4.602628\n",
       "1084             5          5.000000\n",
       "1566             5          5.000000\n",
       "1475             5          5.000000\n",
       "2295             4          4.000000\n",
       "342              5          5.000000\n",
       "3787             1          1.000000\n",
       "1304             5          5.000000\n",
       "3455             1          1.000000\n",
       "2380             5          5.000000"
      ]
     },
     "execution_count": 123,
     "metadata": {},
     "output_type": "execute_result"
    }
   ],
   "source": [
    "dataframe.sample(20)"
   ]
  },
  {
   "cell_type": "markdown",
   "id": "b892f3e2",
   "metadata": {},
   "source": [
    "Finally we obtained a good model with the accuracy of training and testing data of 92% and 91% respectively by using the Decision Tree Regressor model. So it is the best fit for the present dataset. And we have predicted the rating of the testing data with the help of regression models."
   ]
  },
  {
   "cell_type": "code",
   "execution_count": null,
   "id": "9934b075",
   "metadata": {},
   "outputs": [],
   "source": []
  }
 ],
 "metadata": {
  "kernelspec": {
   "display_name": "Python 3",
   "language": "python",
   "name": "python3"
  },
  "language_info": {
   "codemirror_mode": {
    "name": "ipython",
    "version": 3
   },
   "file_extension": ".py",
   "mimetype": "text/x-python",
   "name": "python",
   "nbconvert_exporter": "python",
   "pygments_lexer": "ipython3",
   "version": "3.8.8"
  }
 },
 "nbformat": 4,
 "nbformat_minor": 5
}
